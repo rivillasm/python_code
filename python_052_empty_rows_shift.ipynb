{
 "cells": [
  {
   "cell_type": "code",
   "execution_count": 1,
   "id": "36423449-be0f-497f-a3a4-235ab790f92a",
   "metadata": {},
   "outputs": [
    {
     "name": "stdout",
     "output_type": "stream",
     "text": [
      "(12108, 98)\n",
      "(9635, 25)\n"
     ]
    }
   ],
   "source": [
    "import pandas as pd\n",
    "import os\n",
    "from datetime import datetime\n",
    "import numpy as np\n",
    "import matplotlib.pyplot as plt\n",
    "\n",
    "#                               !!!INPUT FILES NEED TO BE CSV FORMAT!!!\n",
    "#           As usual make sure to format any timestamps in the input files as number,\n",
    "#           or else this script will read all timestamps as '#.###E+12'\n",
    "\n",
    "#                                   Changes/input needed to run this script:\n",
    "#                                   ^^^^^^^^^^^^^^^^^^^^^^^^^^^^^^^^^^^^^^^^\n",
    "#   1. file path for the csv with all timestamps, probably fracBRAIN stage download (sfg.csv).\n",
    "#   2. file path for the csv with list of timestamps you want to match, i.e. field csv (field.csv)\n",
    "#   3. file path for the output csv that will be the two files above, merged via vlookup (output.csv)\n",
    "#   4. make sure both input files have the same header name for timestamp column. Best to use 'timestamp'\n",
    "#      as the header name.\n",
    "#   5. select if you want to add an epoch timestamp column to field csv - add_timestamp = \"y\"\n",
    "#   6. select if you want to delete the unit row (extra row below headers) - delete_unit_row = \"y\"\n",
    "#   7. select a time_offset, if needed, to shift the field csv by x amount of seconds.\n",
    "#   8. (OPTIONAL) save the file you just added to timestamps to. saves to a new file, does not overwrite.\n",
    "\n",
    "#   \n",
    "\n",
    "\n",
    "# file paths for the input and output csv~~~~~~~~~~~~~~~~~~~~~~~~~~~~~~~~~~~~~~~~~~~~~~~~~~~~~~~~~~~~~~~~~~~~~~~~~~~~\n",
    "# step (1)\n",
    "path = 'C:\\\\Users\\\\rivil\\\\Downloads'\n",
    "file_name_sfg = 'Bagpipe State 22 G 86H 8.csv' \n",
    "full_path_sfg = os.path.join(path,file_name_sfg)\n",
    "# step (2)\n",
    "file_name_field = 'Copy of Occidental Petroleum Corporation_G 86H_Interval_8_DataListing.xlsx'\n",
    "full_path_field = os.path.join(path,file_name_field)\n",
    "# step (3)\n",
    "file_name_sfg_output = file_name_sfg.split(\".\")[0]+'_out.'+file_name_sfg.split(\".\")[-1]\n",
    "full_path_output = os.path.join(path,file_name_sfg_output)\n",
    "# ~~~~~~~~~~~~~~~~~~~~~~~~~~~~~~~~~~~~~~~~~~~~~~~~~~~~~~~~~~~~~~~~~~~~~~~~~~~~~~~~~~~~~~~~~~~~~~~~~~~~~~~~~~~~~~~~~~~\n",
    "\n",
    "# create dataFrames from files ~~~~~~~~~~~~~~~~~~~~~~~~~~~~~~~~~~~~~~~~~~~~~~~~~~~~~~~~~~~~~~~~~~~~~~~~~~~~~~~~~~~~~~\n",
    "# if one file does not have any headers for some reason, remove header=0\n",
    "df_sfg = pd.read_csv(full_path_sfg, header=0, index_col=None)\n",
    "df_sfg = df_sfg.iloc[:,:-2]\n",
    "\n",
    "df_field = pd.read_excel(full_path_field,sheet_name=0,header=0,index_col=False,keep_default_na=True)\n",
    "#df_field = pd.read_csv(full_path_field, header=0, index_col=None)\n",
    "df_field = df_field[1:]\n",
    "\n",
    "# transform objt into floating types\n",
    "for column in df_field.columns[6:]:\n",
    "    df_field[column] = df_field[column].map(lambda x: float(x))\n",
    "df_field.dtypes\n",
    "\n",
    "print(df_sfg.shape)\n",
    "print(df_field.shape)"
   ]
  },
  {
   "cell_type": "code",
   "execution_count": null,
   "id": "c8a68bf7-fa01-41ea-bdef-0e067e3698b4",
   "metadata": {},
   "outputs": [],
   "source": []
  }
 ],
 "metadata": {
  "kernelspec": {
   "display_name": "Python 3 (ipykernel)",
   "language": "python",
   "name": "python3"
  },
  "language_info": {
   "codemirror_mode": {
    "name": "ipython",
    "version": 3
   },
   "file_extension": ".py",
   "mimetype": "text/x-python",
   "name": "python",
   "nbconvert_exporter": "python",
   "pygments_lexer": "ipython3",
   "version": "3.9.13"
  }
 },
 "nbformat": 4,
 "nbformat_minor": 5
}
