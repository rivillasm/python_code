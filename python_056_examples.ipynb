{
 "cells": [
  {
   "cell_type": "markdown",
   "id": "819638a0-f8e3-4e5a-bee9-242633937833",
   "metadata": {},
   "source": [
    "### NAIVE SEARCH"
   ]
  },
  {
   "cell_type": "code",
   "execution_count": 1,
   "id": "c13ed255-b7fe-4cc9-859d-602837c2c7d0",
   "metadata": {},
   "outputs": [],
   "source": [
    "import random\n",
    "import time"
   ]
  },
  {
   "cell_type": "code",
   "execution_count": 6,
   "id": "fbe49705-d4ea-469a-b71d-ba9ebd150879",
   "metadata": {},
   "outputs": [
    {
     "name": "stdout",
     "output_type": "stream",
     "text": [
      "3\n",
      "-1\n"
     ]
    }
   ],
   "source": [
    "def naive_search(list1, target):\n",
    "    for i in range(len(list1)):\n",
    "        if list1[i] == target:\n",
    "            return i  # returns the position of the target in the list\n",
    "    return -1    \n",
    "        \n",
    "my_list = [1,3,5,10,12]\n",
    "my_target = 10\n",
    "print(naive_search(my_list, my_target))\n",
    "\n",
    "my_target = 15\n",
    "print(naive_search(my_list, my_target))"
   ]
  },
  {
   "cell_type": "markdown",
   "id": "8671523f-2ead-48d2-924a-0b44d6e04454",
   "metadata": {},
   "source": [
    "### binary search"
   ]
  },
  {
   "cell_type": "code",
   "execution_count": 8,
   "id": "b2d52fe1-e60d-4799-8023-dba70dac53b1",
   "metadata": {},
   "outputs": [],
   "source": [
    "# search for the element by separating the list in pieces.\n",
    "\n",
    "def binary_search(list1, target, min_limit=None, max_limit=None):\n",
    "    \"\"\"Binary search is an efficient algorithm for finding an item \\\n",
    "    from a sorted list of items. It works by repeatedly dividing in \\\n",
    "    half the portion of the list that could contain the item, until \\\n",
    "    you've narrowed down the possible locations to just one\"\"\"\n",
    "    if min_limit is None:\n",
    "        min_limit = 0             # index start of the list\n",
    "    if max_limit is None:\n",
    "        max_limit = len(list1)-1  #  index end of the list\n",
    "        \n",
    "    if max_limit < min_limit:\n",
    "        return -1\n",
    "        \n",
    "    # use of recursion\n",
    "    index_media = (min_limit + max_limit) // 2  # returns only the integer part\n",
    "    \n",
    "    if list1[index_media] == target:\n",
    "        return index_media\n",
    "    elif target < list1[index_media]:\n",
    "        return binary_search(list1, target, min_limit, index_media-1)\n",
    "    else: \n",
    "        return binary_search(list1, target, index_media+1, max_limit)\n",
    "    "
   ]
  },
  {
   "cell_type": "code",
   "execution_count": 11,
   "id": "d7bfa9ca-1d5c-4a6c-8eae-f88826aa12e4",
   "metadata": {},
   "outputs": [
    {
     "name": "stdout",
     "output_type": "stream",
     "text": [
      "4\n"
     ]
    }
   ],
   "source": [
    "my_list = [1,3,5,10,12]\n",
    "my_target = 12\n",
    "print(binary_search(my_list, my_target))"
   ]
  },
  {
   "cell_type": "code",
   "execution_count": 13,
   "id": "746472a1-8270-4fb9-b87b-68b2f0cc402a",
   "metadata": {},
   "outputs": [
    {
     "name": "stdout",
     "output_type": "stream",
     "text": [
      "time of NAIVE search:2.585738182067871 seconds\n",
      "time of BINARY search:0.06284260749816895 seconds\n"
     ]
    }
   ],
   "source": [
    "if __name__ == '__main__':\n",
    "    \n",
    "    # create  a long random list\n",
    "    list_size = 10000\n",
    "    initial_gather = set()\n",
    "    \n",
    "    while len(initial_gather) < list_size:\n",
    "        initial_gather.add(random.randint(-3*list_size, 3*list_size))\n",
    "        \n",
    "    ordered_list = sorted(list(initial_gather))\n",
    "    \n",
    "    \n",
    "    # NAIVE SEARCH time measurement\n",
    "    start_time = time.time()\n",
    "    \n",
    "    for target in ordered_list:\n",
    "        naive_search(ordered_list, target)\n",
    "    \n",
    "    end_time = time.time()\n",
    "    print(f'time of NAIVE search:{end_time - start_time} seconds')\n",
    "    \n",
    "    # BINARY SEARCH time measurement\n",
    "    start_time = time.time()\n",
    "    \n",
    "    for target in ordered_list:\n",
    "        binary_search(ordered_list, target)\n",
    "    \n",
    "    end_time = time.time()\n",
    "    print(f'time of BINARY search:{end_time - start_time} seconds')\n"
   ]
  },
  {
   "cell_type": "code",
   "execution_count": null,
   "id": "f332f964-6154-4755-9040-65f9edd75045",
   "metadata": {},
   "outputs": [],
   "source": []
  }
 ],
 "metadata": {
  "kernelspec": {
   "display_name": "Python 3 (ipykernel)",
   "language": "python",
   "name": "python3"
  },
  "language_info": {
   "codemirror_mode": {
    "name": "ipython",
    "version": 3
   },
   "file_extension": ".py",
   "mimetype": "text/x-python",
   "name": "python",
   "nbconvert_exporter": "python",
   "pygments_lexer": "ipython3",
   "version": "3.9.13"
  }
 },
 "nbformat": 4,
 "nbformat_minor": 5
}
