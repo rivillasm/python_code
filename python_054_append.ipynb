{
 "cells": [
  {
   "cell_type": "code",
   "execution_count": 47,
   "id": "384f0d5d-e6af-4aa3-b4ae-3dd3c6a336aa",
   "metadata": {},
   "outputs": [
    {
     "ename": "NameError",
     "evalue": "name '_start_ime' is not defined",
     "output_type": "error",
     "traceback": [
      "\u001b[1;31m---------------------------------------------------------------------------\u001b[0m",
      "\u001b[1;31mNameError\u001b[0m                                 Traceback (most recent call last)",
      "\u001b[1;32m~\\AppData\\Local\\Temp\\ipykernel_25548\\1997902028.py\u001b[0m in \u001b[0;36m<module>\u001b[1;34m\u001b[0m\n\u001b[0;32m     45\u001b[0m \u001b[1;32mfor\u001b[0m \u001b[0mfile\u001b[0m \u001b[1;32min\u001b[0m \u001b[0mfiles\u001b[0m\u001b[1;33m:\u001b[0m\u001b[1;33m\u001b[0m\u001b[1;33m\u001b[0m\u001b[0m\n\u001b[0;32m     46\u001b[0m     \u001b[0mfull_path_sfg\u001b[0m \u001b[1;33m=\u001b[0m \u001b[0mos\u001b[0m\u001b[1;33m.\u001b[0m\u001b[0mpath\u001b[0m\u001b[1;33m.\u001b[0m\u001b[0mjoin\u001b[0m\u001b[1;33m(\u001b[0m\u001b[0mfolder_path_FB\u001b[0m\u001b[1;33m,\u001b[0m\u001b[0mfile\u001b[0m\u001b[1;33m)\u001b[0m\u001b[1;33m\u001b[0m\u001b[1;33m\u001b[0m\u001b[0m\n\u001b[1;32m---> 47\u001b[1;33m     \u001b[0mdf_sfg\u001b[0m\u001b[1;33m,\u001b[0m \u001b[0mstart_ime\u001b[0m\u001b[1;33m,\u001b[0m \u001b[0mend_time\u001b[0m \u001b[1;33m=\u001b[0m \u001b[0mread_files\u001b[0m\u001b[1;33m(\u001b[0m\u001b[0mfull_path_sfg\u001b[0m\u001b[1;33m)\u001b[0m\u001b[1;33m\u001b[0m\u001b[1;33m\u001b[0m\u001b[0m\n\u001b[0m\u001b[0;32m     48\u001b[0m     \u001b[0mprint\u001b[0m\u001b[1;33m(\u001b[0m\u001b[0mfull_path_sfg\u001b[0m\u001b[1;33m,\u001b[0m \u001b[0mstart_ime\u001b[0m\u001b[1;33m,\u001b[0m \u001b[0mend_time\u001b[0m\u001b[1;33m)\u001b[0m\u001b[1;33m\u001b[0m\u001b[1;33m\u001b[0m\u001b[0m\n\u001b[0;32m     49\u001b[0m \u001b[1;33m\u001b[0m\u001b[0m\n",
      "\u001b[1;32m~\\AppData\\Local\\Temp\\ipykernel_25548\\1997902028.py\u001b[0m in \u001b[0;36mread_files\u001b[1;34m(full_file_path)\u001b[0m\n\u001b[0;32m     25\u001b[0m     \u001b[0m_start_time\u001b[0m \u001b[1;33m=\u001b[0m \u001b[0m_df_sfg\u001b[0m\u001b[1;33m.\u001b[0m\u001b[0mtimestamp\u001b[0m\u001b[1;33m.\u001b[0m\u001b[0miloc\u001b[0m\u001b[1;33m[\u001b[0m\u001b[1;36m0\u001b[0m\u001b[1;33m]\u001b[0m    \u001b[1;31m#gets start time\u001b[0m\u001b[1;33m\u001b[0m\u001b[1;33m\u001b[0m\u001b[0m\n\u001b[0;32m     26\u001b[0m     \u001b[0m_end_time\u001b[0m \u001b[1;33m=\u001b[0m \u001b[0m_df_sfg\u001b[0m\u001b[1;33m.\u001b[0m\u001b[0mtimestamp\u001b[0m\u001b[1;33m.\u001b[0m\u001b[0miloc\u001b[0m\u001b[1;33m[\u001b[0m\u001b[1;33m-\u001b[0m\u001b[1;36m1\u001b[0m\u001b[1;33m]\u001b[0m     \u001b[1;31m#gest end time\u001b[0m\u001b[1;33m\u001b[0m\u001b[1;33m\u001b[0m\u001b[0m\n\u001b[1;32m---> 27\u001b[1;33m     \u001b[1;32mreturn\u001b[0m \u001b[0m_df_sfg\u001b[0m\u001b[1;33m,\u001b[0m \u001b[0m_start_ime\u001b[0m\u001b[1;33m,\u001b[0m \u001b[0m_end_time\u001b[0m\u001b[1;33m\u001b[0m\u001b[1;33m\u001b[0m\u001b[0m\n\u001b[0m\u001b[0;32m     28\u001b[0m \u001b[1;33m\u001b[0m\u001b[0m\n\u001b[0;32m     29\u001b[0m \u001b[1;33m\u001b[0m\u001b[0m\n",
      "\u001b[1;31mNameError\u001b[0m: name '_start_ime' is not defined"
     ]
    }
   ],
   "source": [
    "import os\n",
    "import pandas as pd\n",
    "\n",
    "\n",
    "\n",
    "\n",
    "\n",
    "\n",
    "\n",
    "def list_read_files(folder_path):\n",
    "    try:\n",
    "        # List all files in the folder\n",
    "        _files = os.listdir(folder_path)      \n",
    "        return _files       \n",
    "    except FileNotFoundError:\n",
    "        print(\"Folder not found!\")\n",
    "    except PermissionError:\n",
    "        print(\"Permission denied!\")\n",
    "    except Exception as e:\n",
    "        print(f\"An error occurred: {e}\")\n",
    "\n",
    "def read_files(full_file_path):\n",
    "    _df_sfg = pd.read_csv(full_file_path, header=0, index_col=None, encoding= 'unicode_escape')\n",
    "    _df_sfg = _df_sfg.iloc[:,:-2]              #remove two last columns\n",
    "    _start_time = _df_sfg.timestamp.iloc[0]    #gets start time\n",
    "    _end_time = _df_sfg.timestamp.iloc[-1]     #gest end time\n",
    "    return _df_sfg, _start_time, _end_time\n",
    "\n",
    "        \n",
    "# \n",
    "# df_sfg = df_sfg.iloc[:,:-2]     # removes the last two columns - well and stage name\n",
    "# print('**** Input SFG CSV file Read and two last columns removed ****' )\n",
    "# print(\"SFG CSV file columns/rows:\",df_sfg.shape)\n",
    "# print(\"\")\n",
    "\n",
    "\n",
    "# Example usage:\n",
    "\n",
    "#FOLDER PATH\n",
    "folder_path_FB = 'C:\\\\Users\\\\rivil\\DataCampINeuron\\\\python_code\\\\FB\\\\'\n",
    "#folder_path_MRL = '/path/to/your/folder'\n",
    "files = list_red_files(folder_path_FB)\n",
    "\n",
    "# READING FILES\n",
    "for file in files:\n",
    "    full_path_sfg = os.path.join(folder_path_FB,file)\n",
    "    df_sfg, start_ime, end_time = read_files(full_path_sfg)\n",
    "    print(full_path_sfg, start_ime, end_time)\n",
    "    \n",
    "    #df_sfg = pd.read_csv(full_path_sfg, header=0, index_col=None, encoding= 'unicode_escape')\n",
    "    #df_sfg = df_sfg.iloc[:,:-2]              #remove two last columns\n",
    "    #start_time = df_sfg.timestamp.iloc[0]    #gets start time\n",
    "    #end_time = df_sfg.timestamp.iloc[-1]     #gest end time\n",
    "    #print(start_time,end_time)\n",
    "    #print(df_sfg)\n",
    "\n",
    "\n",
    "\n",
    "# DISPLAY READ FILESs\n",
    "#for file in files:\n",
    "#    print(file)"
   ]
  },
  {
   "cell_type": "code",
   "execution_count": null,
   "id": "b1d7ed8b-5dcb-427d-9bf3-e9346a45c982",
   "metadata": {},
   "outputs": [],
   "source": []
  }
 ],
 "metadata": {
  "kernelspec": {
   "display_name": "Python 3 (ipykernel)",
   "language": "python",
   "name": "python3"
  },
  "language_info": {
   "codemirror_mode": {
    "name": "ipython",
    "version": 3
   },
   "file_extension": ".py",
   "mimetype": "text/x-python",
   "name": "python",
   "nbconvert_exporter": "python",
   "pygments_lexer": "ipython3",
   "version": "3.9.13"
  }
 },
 "nbformat": 4,
 "nbformat_minor": 5
}
